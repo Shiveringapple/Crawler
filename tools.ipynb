{
  "nbformat": 4,
  "nbformat_minor": 0,
  "metadata": {
    "colab": {
      "name": "tools.ipynb",
      "provenance": [],
      "collapsed_sections": [],
      "toc_visible": true,
      "authorship_tag": "ABX9TyMrkmXPuiMT95rR+9mW8lJa",
      "include_colab_link": true
    },
    "kernelspec": {
      "name": "python3",
      "display_name": "Python 3"
    }
  },
  "cells": [
    {
      "cell_type": "markdown",
      "metadata": {
        "id": "view-in-github",
        "colab_type": "text"
      },
      "source": [
        "<a href=\"https://colab.research.google.com/github/Shiveringapple/Crawler/blob/main/tools.ipynb\" target=\"_parent\"><img src=\"https://colab.research.google.com/assets/colab-badge.svg\" alt=\"Open In Colab\"/></a>"
      ]
    },
    {
      "cell_type": "code",
      "metadata": {
        "id": "lF2n05Qc52AG"
      },
      "source": [
        "!pip install opencc-python-reimplemented"
      ],
      "execution_count": null,
      "outputs": []
    },
    {
      "cell_type": "code",
      "metadata": {
        "id": "le3BtODo58Us"
      },
      "source": [
        "s = '《红楼梦》，原名《石头记》，又名《金陵十二钗》等，是清代作家曹雪芹创作的章回体长篇小说，中国古典四大名著之首。小说以贾宝玉、林黛玉、薛宝钗三人爱情纠葛为主线，以贾、史、王、薛四大家族的荣辱兴衰为背景，浓缩了整个封建社会的时代内容，揭示出封建末世危机。此书影响流传甚广，享誉古今海内外。\"开谈不说《红楼梦》，读尽诗书也枉然。\"——清·得舆《京都竹枝词》曹雪芹（约1715—约1763年），名霑，字梦阮，号雪芹、芹圃、芹溪，清满洲正白旗人。曹雪芹一生'"
      ],
      "execution_count": null,
      "outputs": []
    },
    {
      "cell_type": "code",
      "metadata": {
        "id": "UvNWDZpN5okS",
        "outputId": "1ddb2714-02c7-4d3e-a4ee-407879ef9010",
        "colab": {
          "base_uri": "https://localhost:8080/",
          "height": 69
        }
      },
      "source": [
        "from opencc import OpenCC\n",
        "cc = OpenCC('s2twp')\n",
        "converted = cc.convert(s)\n",
        "converted"
      ],
      "execution_count": null,
      "outputs": [
        {
          "output_type": "execute_result",
          "data": {
            "application/vnd.google.colaboratory.intrinsic+json": {
              "type": "string"
            },
            "text/plain": [
              "'《紅樓夢》，原名《石頭記》，又名《金陵十二釵》等，是清代作家曹雪芹創作的章回體長篇小說，中國古典四大名著之首。小說以賈寶玉、林黛玉、薛寶釵三人愛情糾葛為主線，以賈、史、王、薛四大家族的榮辱興衰為背景，濃縮了整個封建社會的時代內容，揭示出封建末世危機。此書影響流傳甚廣，享譽古今海內外。\"開談不說《紅樓夢》，讀盡詩書也枉然。\"——清·得輿《京都竹枝詞》曹雪芹（約1715—約1763年），名霑，字夢阮，號雪芹、芹圃、芹溪，清滿洲正白旗人。曹雪芹一生'"
            ]
          },
          "metadata": {
            "tags": []
          },
          "execution_count": 14
        }
      ]
    },
    {
      "cell_type": "code",
      "metadata": {
        "id": "BP0w7fI58iLg",
        "outputId": "e40df993-f9ae-402f-a2ae-ef09928b2928",
        "colab": {
          "base_uri": "https://localhost:8080/",
          "height": 153
        }
      },
      "source": [
        "import jieba \n",
        "from urllib.request import urlretrieve\n",
        "url = \"https://github.com/fxsjy/jieba/raw/master/extra_dict/dict.txt.big\"\n",
        "urlretrieve(url, \"dict.txt.big\")\n",
        "jieba.set_dictionary(\"dict.txt.big\")\n",
        "jieba.load_userdict(\"literature.txt\")\n",
        "\" \".join(jieba.cut(converted))"
      ],
      "execution_count": null,
      "outputs": [
        {
          "output_type": "stream",
          "text": [
            "Building prefix dict from /content/dict.txt.big ...\n",
            "Dumping model to file cache /tmp/jieba.u501edca284da514cb68b53a20324f4e3.cache\n",
            "Loading model cost 1.407 seconds.\n",
            "Prefix dict has been built successfully.\n"
          ],
          "name": "stderr"
        },
        {
          "output_type": "execute_result",
          "data": {
            "application/vnd.google.colaboratory.intrinsic+json": {
              "type": "string"
            },
            "text/plain": [
              "'《 紅樓夢 》 ， 原名 《 石頭記 》 ， 又名 《 金陵十二釵 》 等 ， 是 清代 作家 曹雪芹 創作 的 章回體 長篇小說 ， 中國 古典 四大名著 之 首 。 小說 以 賈寶玉 、 林黛玉 、 薛寶釵 三人 愛情 糾葛 為 主線 ， 以 賈 、 史 、 王 、 薛 四大家族 的 榮辱興衰 為 背景 ， 濃縮 了 整個 封建社會 的 時代 內容 ， 揭示 出 封建 末世 危機 。 此書 影響 流傳 甚廣 ， 享譽 古今 海內外 。 \" 開談 不 說 《 紅樓夢 》 ， 讀盡 詩書 也 枉然 。 \" — — 清 · 得輿 《 京都 竹枝詞 》 曹雪芹 （ 約 1715 — 約 1763 年 ） ， 名霑 ， 字 夢阮 ， 號 雪芹 、 芹圃 、 芹溪 ， 清 滿洲 正白旗 人 。 曹雪芹 一生'"
            ]
          },
          "metadata": {
            "tags": []
          },
          "execution_count": 19
        }
      ]
    },
    {
      "cell_type": "code",
      "metadata": {
        "id": "RkDli-X8XQPQ",
        "outputId": "e508fb6d-dbd3-4996-ac2e-4dc008cdc7dc",
        "colab": {
          "base_uri": "https://localhost:8080/",
          "height": 353
        }
      },
      "source": [
        "import jieba.analyse\n",
        "jieba.analyse.extract_tags(converted)"
      ],
      "execution_count": null,
      "outputs": [
        {
          "output_type": "execute_result",
          "data": {
            "text/plain": [
              "['曹雪芹',\n",
              " '紅樓夢',\n",
              " '雪芹',\n",
              " '石頭記',\n",
              " '金陵十二釵',\n",
              " '創作',\n",
              " '章回體',\n",
              " '長篇小說',\n",
              " '中國',\n",
              " '四大名著',\n",
              " '小說',\n",
              " '賈寶玉',\n",
              " '薛寶釵',\n",
              " '愛情',\n",
              " '糾葛',\n",
              " '主線',\n",
              " '榮辱興衰',\n",
              " '濃縮',\n",
              " '整個',\n",
              " '封建社會']"
            ]
          },
          "metadata": {
            "tags": []
          },
          "execution_count": 20
        }
      ]
    },
    {
      "cell_type": "code",
      "metadata": {
        "id": "7JDNbeEheHDM"
      },
      "source": [
        ""
      ],
      "execution_count": null,
      "outputs": []
    }
  ]
}